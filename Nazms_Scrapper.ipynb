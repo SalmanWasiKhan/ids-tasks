{
  "nbformat": 4,
  "nbformat_minor": 0,
  "metadata": {
    "colab": {
      "provenance": [],
      "collapsed_sections": []
    },
    "kernelspec": {
      "name": "python3",
      "display_name": "Python 3"
    },
    "language_info": {
      "name": "python"
    }
  },
  "cells": [
    {
      "cell_type": "code",
      "execution_count": 1,
      "metadata": {
        "id": "aEb7UgdsL4JH"
      },
      "outputs": [],
      "source": [
        "import requests\n",
        "from bs4 import BeautifulSoup"
      ]
    },
    {
      "cell_type": "code",
      "source": [
        "# Scraping the list of Nazms of Allama Iqbal from website Rekhta\n",
        "\n",
        "response = requests.get(\"https://www.rekhta.org/poets/allama-iqbal/nazms\")\n",
        "root = BeautifulSoup(response.content, 'html5lib')\n",
        "\n",
        "#prettify() is used to format HTML text with proper indents\n",
        "print(root.prettify())"
      ],
      "metadata": {
        "id": "h_wLvrY0QZnl"
      },
      "execution_count": null,
      "outputs": []
    },
    {
      "cell_type": "code",
      "source": [
        "for row in root.find_all('h3', attrs = {'class':'noPoetSubTtl'}):\n",
        "  print (row.text, \"\\n\")"
      ],
      "metadata": {
        "colab": {
          "base_uri": "https://localhost:8080/"
        },
        "id": "50Mdp0KRSIq0",
        "outputId": "c831f273-6836-4b51-d91d-3fcccae1aa2a"
      },
      "execution_count": 6,
      "outputs": [
        {
          "output_type": "stream",
          "name": "stdout",
          "text": [
            "shikwa \n",
            "\n",
            "jawab-e-shikwa \n",
            "\n",
            "ek aarzu \n",
            "\n",
            "tarana-e-hindi \n",
            "\n",
            "bachche ki dua \n",
            "\n",
            "jawed ke nam \n",
            "\n",
            "tulu-e-islam \n",
            "\n",
            "la-ilaha-illallah \n",
            "\n",
            "farman-e-KHuda \n",
            "\n",
            "hindustani bachchon ka qaumi git \n",
            "\n",
            "parinde ki fariyaad \n",
            "\n",
            "saqi-nama \n",
            "\n",
            "tariq ki dua \n",
            "\n",
            "ek nau-jawan ke nam \n",
            "\n",
            "tarana-e-milli \n",
            "\n",
            "jibrail o iblis \n",
            "\n",
            "masjid-e-qurtuba \n",
            "\n",
            "iblis ki majlis-e-shura \n",
            "\n",
            "KHizr-e-rah \n",
            "\n",
            "iltija-e-musafir \n",
            "\n",
            "lenin \n",
            "\n",
            "talib-ilm \n",
            "\n",
            "taswir-e-dard \n",
            "\n",
            "zauq o shauq \n",
            "\n",
            "nanak \n",
            "\n",
            "aurat \n",
            "\n",
            "ram \n",
            "\n",
            "naya shiwala \n",
            "\n",
            "walida marhuma ki yaad mein \n",
            "\n",
            "namaz \n",
            "\n",
            "mirza ghaalib \n",
            "\n",
            "march 1907 \n",
            "\n",
            "ruh-e-arzi aadam ka istiqbaal karti hai \n",
            "\n",
            "jamhuriyat \n",
            "\n",
            "ek pahaD aur gilahri \n",
            "\n",
            "man ka KHwab \n",
            "\n",
            "hamdardi \n",
            "\n",
            "zohd aur rindi \n",
            "\n",
            "ek makDa aur makkhi \n",
            "\n",
            "mohabbat \n",
            "\n",
            "himala \n",
            "\n",
            "funun-e-latifa \n",
            "\n",
            "abul-ala-marri \n",
            "\n",
            "kya ishq ek zindagi-e-mustaar ka \n",
            "\n",
            "ek gae aur bakri \n",
            "\n",
            "farishte aadam ko jannat se ruKHsat karte hain \n",
            "\n",
            "hazrat-e-insan \n",
            "\n",
            "talaba-e-ali-gaDh collage ke nam \n",
            "\n",
            "Sar-guzisht-e-adam \n",
            "\n",
            "goristan-e-shahi \n",
            "\n"
          ]
        }
      ]
    }
  ]
}