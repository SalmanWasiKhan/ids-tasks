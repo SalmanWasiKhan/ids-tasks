{
  "nbformat": 4,
  "nbformat_minor": 0,
  "metadata": {
    "colab": {
      "provenance": [],
      "collapsed_sections": []
    },
    "kernelspec": {
      "name": "python3",
      "display_name": "Python 3"
    },
    "language_info": {
      "name": "python"
    }
  },
  "cells": [
    {
      "cell_type": "code",
      "execution_count": 1,
      "metadata": {
        "id": "xpdCsbsDS1kv"
      },
      "outputs": [],
      "source": [
        "import folium\n",
        "import pandas as pd\n",
        "import numpy as np"
      ]
    },
    {
      "cell_type": "code",
      "source": [
        "#create a map on Somalia location\n",
        "pakistan_map = folium.Map(location = [30.38,69.35],zoom_start=4.5,tiles='OpenStreetMap')"
      ],
      "metadata": {
        "id": "voYYwIRqVirn"
      },
      "execution_count": 18,
      "outputs": []
    },
    {
      "cell_type": "code",
      "source": [
        "#import Google Drive and mount the entire drive\n",
        "from google.colab import drive\n",
        "drive.mount('/content/drive')"
      ],
      "metadata": {
        "colab": {
          "base_uri": "https://localhost:8080/"
        },
        "id": "-K2ePAjSWCIC",
        "outputId": "05a2ab8e-f73a-4650-a71a-8653ca2010d3"
      },
      "execution_count": 3,
      "outputs": [
        {
          "output_type": "stream",
          "name": "stdout",
          "text": [
            "Mounted at /content/drive\n"
          ]
        }
      ]
    },
    {
      "cell_type": "code",
      "source": [
        "df = pd.read_csv('/content/drive/MyDrive/datasets/drone-strikes-dataset.csv')\n",
        "df['Latitude'].replace('', np.nan, inplace=True)\n",
        "\n",
        "df.dropna(subset=['Longitude'], inplace=True)\n",
        "df.dropna(subset=['Latitude'], inplace=True)\n",
        "\n",
        "df.drop(df.index[df['Longitude'] == '#VALUE!'], inplace=True)\n",
        "df.drop(df.index[df['Latitude'] == '#VALUE!'], inplace=True)\n",
        "df"
      ],
      "metadata": {
        "id": "jG2DZDL0WRBZ"
      },
      "execution_count": null,
      "outputs": []
    },
    {
      "cell_type": "code",
      "source": [
        "for date,lat,long,people_killed,city in zip(list(df['Date']),list(df['Latitude']),list(df['Longitude']),list(df['Killed']),list(df['City'])):\n",
        "    folium.CircleMarker(location = [lat,long],\n",
        "                       radius = 2,\n",
        "                       color = 'red',\n",
        "                       fill = False)\n",
        "    xyz = '<strong><br/>' + 'Date: '+ date + '<br/>Total people killed:  ' + str(people_killed) + '<br/>City:  ' + city + '</strong>'\n",
        "    iframe = folium.IFrame(xyz, width=200, height=150)\n",
        "    popupData = folium.Popup(iframe, max_width=500)\n",
        "    folium.Marker(location = [lat,long], popup=popupData).add_to(pakistan_map)\n",
        "    \n",
        "\n",
        "pakistan_map"
      ],
      "metadata": {
        "id": "Ue8GSNTxag_K"
      },
      "execution_count": null,
      "outputs": []
    }
  ]
}