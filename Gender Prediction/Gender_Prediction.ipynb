{
  "nbformat": 4,
  "nbformat_minor": 0,
  "metadata": {
    "colab": {
      "provenance": []
    },
    "kernelspec": {
      "name": "python3",
      "display_name": "Python 3"
    },
    "language_info": {
      "name": "python"
    }
  },
  "cells": [
    {
      "cell_type": "code",
      "execution_count": 1,
      "metadata": {
        "id": "37hjBzYYqePb"
      },
      "outputs": [],
      "source": [
        "#import libraries\n",
        "from sklearn import preprocessing\n",
        "import pandas as pd\n",
        "\n",
        "#import different ML classifiers\n",
        "from sklearn.svm import SVC\n",
        "from sklearn.ensemble import RandomForestClassifier\n",
        "from sklearn.neural_network import MLPClassifier\n",
        "\n",
        "#import ML evaluation metrics\n",
        "from sklearn.metrics import accuracy_score, f1_score\n",
        "from sklearn.model_selection import train_test_split\n",
        "from sklearn import metrics, model_selection"
      ]
    },
    {
      "cell_type": "code",
      "source": [
        "#import library for accesssing Google Drive from Google Colab\n",
        "from google.colab import drive\n",
        "drive.mount('/content/drive')"
      ],
      "metadata": {
        "id": "PmTmFU7Vt8xv"
      },
      "execution_count": null,
      "outputs": []
    },
    {
      "cell_type": "code",
      "source": [
        "#read CSV (dataset) file\n",
        "df = pd.read_csv('/content/drive/MyDrive/datasets/gender-prediction.csv')\n",
        "df"
      ],
      "metadata": {
        "colab": {
          "base_uri": "https://localhost:8080/",
          "height": 424
        },
        "id": "uHuYgghLuDrz",
        "outputId": "4173b1b5-2412-4996-a0a0-49594179d93c"
      },
      "execution_count": 5,
      "outputs": [
        {
          "output_type": "execute_result",
          "data": {
            "text/plain": [
              "    height  weight beard hair_length  shoe_size scarf eye_color  gender\n",
              "0       71     176   yes       short         44    no     black    male\n",
              "1       68     165    no        bald         41    no     black    male\n",
              "2       62     132    no      medium         37   yes      blue  female\n",
              "3       65     138    no        long         38    no      gray  female\n",
              "4       70     197   yes      medium         43    no      gray    male\n",
              "..     ...     ...   ...         ...        ...   ...       ...     ...\n",
              "75      65      99    no       short         39   yes     green  female\n",
              "76      61      98    no       short         37    no     brown  female\n",
              "77      67     119   yes       short         40    no     black    male\n",
              "78      70     190   yes      medium         43    no      gray    male\n",
              "79      62     142   yes        long         37    no      blue  female\n",
              "\n",
              "[80 rows x 8 columns]"
            ],
            "text/html": [
              "\n",
              "  <div id=\"df-f7ba776c-e606-493b-9c79-655511e758da\">\n",
              "    <div class=\"colab-df-container\">\n",
              "      <div>\n",
              "<style scoped>\n",
              "    .dataframe tbody tr th:only-of-type {\n",
              "        vertical-align: middle;\n",
              "    }\n",
              "\n",
              "    .dataframe tbody tr th {\n",
              "        vertical-align: top;\n",
              "    }\n",
              "\n",
              "    .dataframe thead th {\n",
              "        text-align: right;\n",
              "    }\n",
              "</style>\n",
              "<table border=\"1\" class=\"dataframe\">\n",
              "  <thead>\n",
              "    <tr style=\"text-align: right;\">\n",
              "      <th></th>\n",
              "      <th>height</th>\n",
              "      <th>weight</th>\n",
              "      <th>beard</th>\n",
              "      <th>hair_length</th>\n",
              "      <th>shoe_size</th>\n",
              "      <th>scarf</th>\n",
              "      <th>eye_color</th>\n",
              "      <th>gender</th>\n",
              "    </tr>\n",
              "  </thead>\n",
              "  <tbody>\n",
              "    <tr>\n",
              "      <th>0</th>\n",
              "      <td>71</td>\n",
              "      <td>176</td>\n",
              "      <td>yes</td>\n",
              "      <td>short</td>\n",
              "      <td>44</td>\n",
              "      <td>no</td>\n",
              "      <td>black</td>\n",
              "      <td>male</td>\n",
              "    </tr>\n",
              "    <tr>\n",
              "      <th>1</th>\n",
              "      <td>68</td>\n",
              "      <td>165</td>\n",
              "      <td>no</td>\n",
              "      <td>bald</td>\n",
              "      <td>41</td>\n",
              "      <td>no</td>\n",
              "      <td>black</td>\n",
              "      <td>male</td>\n",
              "    </tr>\n",
              "    <tr>\n",
              "      <th>2</th>\n",
              "      <td>62</td>\n",
              "      <td>132</td>\n",
              "      <td>no</td>\n",
              "      <td>medium</td>\n",
              "      <td>37</td>\n",
              "      <td>yes</td>\n",
              "      <td>blue</td>\n",
              "      <td>female</td>\n",
              "    </tr>\n",
              "    <tr>\n",
              "      <th>3</th>\n",
              "      <td>65</td>\n",
              "      <td>138</td>\n",
              "      <td>no</td>\n",
              "      <td>long</td>\n",
              "      <td>38</td>\n",
              "      <td>no</td>\n",
              "      <td>gray</td>\n",
              "      <td>female</td>\n",
              "    </tr>\n",
              "    <tr>\n",
              "      <th>4</th>\n",
              "      <td>70</td>\n",
              "      <td>197</td>\n",
              "      <td>yes</td>\n",
              "      <td>medium</td>\n",
              "      <td>43</td>\n",
              "      <td>no</td>\n",
              "      <td>gray</td>\n",
              "      <td>male</td>\n",
              "    </tr>\n",
              "    <tr>\n",
              "      <th>...</th>\n",
              "      <td>...</td>\n",
              "      <td>...</td>\n",
              "      <td>...</td>\n",
              "      <td>...</td>\n",
              "      <td>...</td>\n",
              "      <td>...</td>\n",
              "      <td>...</td>\n",
              "      <td>...</td>\n",
              "    </tr>\n",
              "    <tr>\n",
              "      <th>75</th>\n",
              "      <td>65</td>\n",
              "      <td>99</td>\n",
              "      <td>no</td>\n",
              "      <td>short</td>\n",
              "      <td>39</td>\n",
              "      <td>yes</td>\n",
              "      <td>green</td>\n",
              "      <td>female</td>\n",
              "    </tr>\n",
              "    <tr>\n",
              "      <th>76</th>\n",
              "      <td>61</td>\n",
              "      <td>98</td>\n",
              "      <td>no</td>\n",
              "      <td>short</td>\n",
              "      <td>37</td>\n",
              "      <td>no</td>\n",
              "      <td>brown</td>\n",
              "      <td>female</td>\n",
              "    </tr>\n",
              "    <tr>\n",
              "      <th>77</th>\n",
              "      <td>67</td>\n",
              "      <td>119</td>\n",
              "      <td>yes</td>\n",
              "      <td>short</td>\n",
              "      <td>40</td>\n",
              "      <td>no</td>\n",
              "      <td>black</td>\n",
              "      <td>male</td>\n",
              "    </tr>\n",
              "    <tr>\n",
              "      <th>78</th>\n",
              "      <td>70</td>\n",
              "      <td>190</td>\n",
              "      <td>yes</td>\n",
              "      <td>medium</td>\n",
              "      <td>43</td>\n",
              "      <td>no</td>\n",
              "      <td>gray</td>\n",
              "      <td>male</td>\n",
              "    </tr>\n",
              "    <tr>\n",
              "      <th>79</th>\n",
              "      <td>62</td>\n",
              "      <td>142</td>\n",
              "      <td>yes</td>\n",
              "      <td>long</td>\n",
              "      <td>37</td>\n",
              "      <td>no</td>\n",
              "      <td>blue</td>\n",
              "      <td>female</td>\n",
              "    </tr>\n",
              "  </tbody>\n",
              "</table>\n",
              "<p>80 rows × 8 columns</p>\n",
              "</div>\n",
              "      <button class=\"colab-df-convert\" onclick=\"convertToInteractive('df-f7ba776c-e606-493b-9c79-655511e758da')\"\n",
              "              title=\"Convert this dataframe to an interactive table.\"\n",
              "              style=\"display:none;\">\n",
              "        \n",
              "  <svg xmlns=\"http://www.w3.org/2000/svg\" height=\"24px\"viewBox=\"0 0 24 24\"\n",
              "       width=\"24px\">\n",
              "    <path d=\"M0 0h24v24H0V0z\" fill=\"none\"/>\n",
              "    <path d=\"M18.56 5.44l.94 2.06.94-2.06 2.06-.94-2.06-.94-.94-2.06-.94 2.06-2.06.94zm-11 1L8.5 8.5l.94-2.06 2.06-.94-2.06-.94L8.5 2.5l-.94 2.06-2.06.94zm10 10l.94 2.06.94-2.06 2.06-.94-2.06-.94-.94-2.06-.94 2.06-2.06.94z\"/><path d=\"M17.41 7.96l-1.37-1.37c-.4-.4-.92-.59-1.43-.59-.52 0-1.04.2-1.43.59L10.3 9.45l-7.72 7.72c-.78.78-.78 2.05 0 2.83L4 21.41c.39.39.9.59 1.41.59.51 0 1.02-.2 1.41-.59l7.78-7.78 2.81-2.81c.8-.78.8-2.07 0-2.86zM5.41 20L4 18.59l7.72-7.72 1.47 1.35L5.41 20z\"/>\n",
              "  </svg>\n",
              "      </button>\n",
              "      \n",
              "  <style>\n",
              "    .colab-df-container {\n",
              "      display:flex;\n",
              "      flex-wrap:wrap;\n",
              "      gap: 12px;\n",
              "    }\n",
              "\n",
              "    .colab-df-convert {\n",
              "      background-color: #E8F0FE;\n",
              "      border: none;\n",
              "      border-radius: 50%;\n",
              "      cursor: pointer;\n",
              "      display: none;\n",
              "      fill: #1967D2;\n",
              "      height: 32px;\n",
              "      padding: 0 0 0 0;\n",
              "      width: 32px;\n",
              "    }\n",
              "\n",
              "    .colab-df-convert:hover {\n",
              "      background-color: #E2EBFA;\n",
              "      box-shadow: 0px 1px 2px rgba(60, 64, 67, 0.3), 0px 1px 3px 1px rgba(60, 64, 67, 0.15);\n",
              "      fill: #174EA6;\n",
              "    }\n",
              "\n",
              "    [theme=dark] .colab-df-convert {\n",
              "      background-color: #3B4455;\n",
              "      fill: #D2E3FC;\n",
              "    }\n",
              "\n",
              "    [theme=dark] .colab-df-convert:hover {\n",
              "      background-color: #434B5C;\n",
              "      box-shadow: 0px 1px 3px 1px rgba(0, 0, 0, 0.15);\n",
              "      filter: drop-shadow(0px 1px 2px rgba(0, 0, 0, 0.3));\n",
              "      fill: #FFFFFF;\n",
              "    }\n",
              "  </style>\n",
              "\n",
              "      <script>\n",
              "        const buttonEl =\n",
              "          document.querySelector('#df-f7ba776c-e606-493b-9c79-655511e758da button.colab-df-convert');\n",
              "        buttonEl.style.display =\n",
              "          google.colab.kernel.accessAllowed ? 'block' : 'none';\n",
              "\n",
              "        async function convertToInteractive(key) {\n",
              "          const element = document.querySelector('#df-f7ba776c-e606-493b-9c79-655511e758da');\n",
              "          const dataTable =\n",
              "            await google.colab.kernel.invokeFunction('convertToInteractive',\n",
              "                                                     [key], {});\n",
              "          if (!dataTable) return;\n",
              "\n",
              "          const docLinkHtml = 'Like what you see? Visit the ' +\n",
              "            '<a target=\"_blank\" href=https://colab.research.google.com/notebooks/data_table.ipynb>data table notebook</a>'\n",
              "            + ' to learn more about interactive tables.';\n",
              "          element.innerHTML = '';\n",
              "          dataTable['output_type'] = 'display_data';\n",
              "          await google.colab.output.renderOutput(dataTable, element);\n",
              "          const docLink = document.createElement('div');\n",
              "          docLink.innerHTML = docLinkHtml;\n",
              "          element.appendChild(docLink);\n",
              "        }\n",
              "      </script>\n",
              "    </div>\n",
              "  </div>\n",
              "  "
            ]
          },
          "metadata": {},
          "execution_count": 5
        }
      ]
    },
    {
      "cell_type": "code",
      "source": [
        "#seperate dependent (output) and independent (input) variables\n",
        "x = df.drop(['gender'], axis=1)\n",
        "# x = df.drop(['gender', 'eye_color', 'shoe_size'], axis=1)\n",
        "y = df['gender']"
      ],
      "metadata": {
        "id": "bDgHYsXNudDL"
      },
      "execution_count": 7,
      "outputs": []
    },
    {
      "cell_type": "code",
      "source": [
        "labels = preprocessing.LabelEncoder()\n",
        "y_encoded = labels.fit_transform(y)\n",
        "y_encoded"
      ],
      "metadata": {
        "colab": {
          "base_uri": "https://localhost:8080/"
        },
        "id": "CB1-cGHUxM80",
        "outputId": "7697ca63-5e8e-4327-c4c0-cd09b19f1192"
      },
      "execution_count": 10,
      "outputs": [
        {
          "output_type": "execute_result",
          "data": {
            "text/plain": [
              "array([1, 1, 0, 0, 1, 1, 1, 1, 0, 0, 0, 1, 1, 0, 1, 1, 1, 0, 0, 0, 0, 1,\n",
              "       1, 1, 0, 1, 1, 0, 0, 0, 0, 1, 0, 0, 0, 1, 0, 1, 0, 0, 0, 1, 1, 1,\n",
              "       1, 1, 1, 1, 1, 1, 1, 1, 1, 1, 0, 1, 1, 0, 1, 1, 1, 1, 1, 0, 0, 1,\n",
              "       0, 1, 0, 1, 0, 1, 1, 0, 0, 0, 0, 1, 1, 0])"
            ]
          },
          "metadata": {},
          "execution_count": 10
        }
      ]
    },
    {
      "cell_type": "code",
      "source": [
        "x['beard'] = labels.fit_transform(x['beard'])\n",
        "x['hair_length'] = labels.fit_transform(x['hair_length'])\n",
        "x['scarf'] = labels.fit_transform(x['scarf'])\n",
        "x['eye_color'] = labels.fit_transform(x['eye_color'])\n",
        "x"
      ],
      "metadata": {
        "colab": {
          "base_uri": "https://localhost:8080/",
          "height": 424
        },
        "id": "J-U7abB-xmTn",
        "outputId": "59b1ac21-655c-4785-b69c-162f6bee236a"
      },
      "execution_count": 9,
      "outputs": [
        {
          "output_type": "execute_result",
          "data": {
            "text/plain": [
              "    height  weight  beard  hair_length  shoe_size  scarf  eye_color\n",
              "0       71     176      1            3         44      0          0\n",
              "1       68     165      0            0         41      0          0\n",
              "2       62     132      0            2         37      1          1\n",
              "3       65     138      0            1         38      0          3\n",
              "4       70     197      1            2         43      0          3\n",
              "..     ...     ...    ...          ...        ...    ...        ...\n",
              "75      65      99      0            3         39      1          4\n",
              "76      61      98      0            3         37      0          2\n",
              "77      67     119      1            3         40      0          0\n",
              "78      70     190      1            2         43      0          3\n",
              "79      62     142      1            1         37      0          1\n",
              "\n",
              "[80 rows x 7 columns]"
            ],
            "text/html": [
              "\n",
              "  <div id=\"df-1761a16b-7a35-4c2a-9b85-e94ba4dc84f3\">\n",
              "    <div class=\"colab-df-container\">\n",
              "      <div>\n",
              "<style scoped>\n",
              "    .dataframe tbody tr th:only-of-type {\n",
              "        vertical-align: middle;\n",
              "    }\n",
              "\n",
              "    .dataframe tbody tr th {\n",
              "        vertical-align: top;\n",
              "    }\n",
              "\n",
              "    .dataframe thead th {\n",
              "        text-align: right;\n",
              "    }\n",
              "</style>\n",
              "<table border=\"1\" class=\"dataframe\">\n",
              "  <thead>\n",
              "    <tr style=\"text-align: right;\">\n",
              "      <th></th>\n",
              "      <th>height</th>\n",
              "      <th>weight</th>\n",
              "      <th>beard</th>\n",
              "      <th>hair_length</th>\n",
              "      <th>shoe_size</th>\n",
              "      <th>scarf</th>\n",
              "      <th>eye_color</th>\n",
              "    </tr>\n",
              "  </thead>\n",
              "  <tbody>\n",
              "    <tr>\n",
              "      <th>0</th>\n",
              "      <td>71</td>\n",
              "      <td>176</td>\n",
              "      <td>1</td>\n",
              "      <td>3</td>\n",
              "      <td>44</td>\n",
              "      <td>0</td>\n",
              "      <td>0</td>\n",
              "    </tr>\n",
              "    <tr>\n",
              "      <th>1</th>\n",
              "      <td>68</td>\n",
              "      <td>165</td>\n",
              "      <td>0</td>\n",
              "      <td>0</td>\n",
              "      <td>41</td>\n",
              "      <td>0</td>\n",
              "      <td>0</td>\n",
              "    </tr>\n",
              "    <tr>\n",
              "      <th>2</th>\n",
              "      <td>62</td>\n",
              "      <td>132</td>\n",
              "      <td>0</td>\n",
              "      <td>2</td>\n",
              "      <td>37</td>\n",
              "      <td>1</td>\n",
              "      <td>1</td>\n",
              "    </tr>\n",
              "    <tr>\n",
              "      <th>3</th>\n",
              "      <td>65</td>\n",
              "      <td>138</td>\n",
              "      <td>0</td>\n",
              "      <td>1</td>\n",
              "      <td>38</td>\n",
              "      <td>0</td>\n",
              "      <td>3</td>\n",
              "    </tr>\n",
              "    <tr>\n",
              "      <th>4</th>\n",
              "      <td>70</td>\n",
              "      <td>197</td>\n",
              "      <td>1</td>\n",
              "      <td>2</td>\n",
              "      <td>43</td>\n",
              "      <td>0</td>\n",
              "      <td>3</td>\n",
              "    </tr>\n",
              "    <tr>\n",
              "      <th>...</th>\n",
              "      <td>...</td>\n",
              "      <td>...</td>\n",
              "      <td>...</td>\n",
              "      <td>...</td>\n",
              "      <td>...</td>\n",
              "      <td>...</td>\n",
              "      <td>...</td>\n",
              "    </tr>\n",
              "    <tr>\n",
              "      <th>75</th>\n",
              "      <td>65</td>\n",
              "      <td>99</td>\n",
              "      <td>0</td>\n",
              "      <td>3</td>\n",
              "      <td>39</td>\n",
              "      <td>1</td>\n",
              "      <td>4</td>\n",
              "    </tr>\n",
              "    <tr>\n",
              "      <th>76</th>\n",
              "      <td>61</td>\n",
              "      <td>98</td>\n",
              "      <td>0</td>\n",
              "      <td>3</td>\n",
              "      <td>37</td>\n",
              "      <td>0</td>\n",
              "      <td>2</td>\n",
              "    </tr>\n",
              "    <tr>\n",
              "      <th>77</th>\n",
              "      <td>67</td>\n",
              "      <td>119</td>\n",
              "      <td>1</td>\n",
              "      <td>3</td>\n",
              "      <td>40</td>\n",
              "      <td>0</td>\n",
              "      <td>0</td>\n",
              "    </tr>\n",
              "    <tr>\n",
              "      <th>78</th>\n",
              "      <td>70</td>\n",
              "      <td>190</td>\n",
              "      <td>1</td>\n",
              "      <td>2</td>\n",
              "      <td>43</td>\n",
              "      <td>0</td>\n",
              "      <td>3</td>\n",
              "    </tr>\n",
              "    <tr>\n",
              "      <th>79</th>\n",
              "      <td>62</td>\n",
              "      <td>142</td>\n",
              "      <td>1</td>\n",
              "      <td>1</td>\n",
              "      <td>37</td>\n",
              "      <td>0</td>\n",
              "      <td>1</td>\n",
              "    </tr>\n",
              "  </tbody>\n",
              "</table>\n",
              "<p>80 rows × 7 columns</p>\n",
              "</div>\n",
              "      <button class=\"colab-df-convert\" onclick=\"convertToInteractive('df-1761a16b-7a35-4c2a-9b85-e94ba4dc84f3')\"\n",
              "              title=\"Convert this dataframe to an interactive table.\"\n",
              "              style=\"display:none;\">\n",
              "        \n",
              "  <svg xmlns=\"http://www.w3.org/2000/svg\" height=\"24px\"viewBox=\"0 0 24 24\"\n",
              "       width=\"24px\">\n",
              "    <path d=\"M0 0h24v24H0V0z\" fill=\"none\"/>\n",
              "    <path d=\"M18.56 5.44l.94 2.06.94-2.06 2.06-.94-2.06-.94-.94-2.06-.94 2.06-2.06.94zm-11 1L8.5 8.5l.94-2.06 2.06-.94-2.06-.94L8.5 2.5l-.94 2.06-2.06.94zm10 10l.94 2.06.94-2.06 2.06-.94-2.06-.94-.94-2.06-.94 2.06-2.06.94z\"/><path d=\"M17.41 7.96l-1.37-1.37c-.4-.4-.92-.59-1.43-.59-.52 0-1.04.2-1.43.59L10.3 9.45l-7.72 7.72c-.78.78-.78 2.05 0 2.83L4 21.41c.39.39.9.59 1.41.59.51 0 1.02-.2 1.41-.59l7.78-7.78 2.81-2.81c.8-.78.8-2.07 0-2.86zM5.41 20L4 18.59l7.72-7.72 1.47 1.35L5.41 20z\"/>\n",
              "  </svg>\n",
              "      </button>\n",
              "      \n",
              "  <style>\n",
              "    .colab-df-container {\n",
              "      display:flex;\n",
              "      flex-wrap:wrap;\n",
              "      gap: 12px;\n",
              "    }\n",
              "\n",
              "    .colab-df-convert {\n",
              "      background-color: #E8F0FE;\n",
              "      border: none;\n",
              "      border-radius: 50%;\n",
              "      cursor: pointer;\n",
              "      display: none;\n",
              "      fill: #1967D2;\n",
              "      height: 32px;\n",
              "      padding: 0 0 0 0;\n",
              "      width: 32px;\n",
              "    }\n",
              "\n",
              "    .colab-df-convert:hover {\n",
              "      background-color: #E2EBFA;\n",
              "      box-shadow: 0px 1px 2px rgba(60, 64, 67, 0.3), 0px 1px 3px 1px rgba(60, 64, 67, 0.15);\n",
              "      fill: #174EA6;\n",
              "    }\n",
              "\n",
              "    [theme=dark] .colab-df-convert {\n",
              "      background-color: #3B4455;\n",
              "      fill: #D2E3FC;\n",
              "    }\n",
              "\n",
              "    [theme=dark] .colab-df-convert:hover {\n",
              "      background-color: #434B5C;\n",
              "      box-shadow: 0px 1px 3px 1px rgba(0, 0, 0, 0.15);\n",
              "      filter: drop-shadow(0px 1px 2px rgba(0, 0, 0, 0.3));\n",
              "      fill: #FFFFFF;\n",
              "    }\n",
              "  </style>\n",
              "\n",
              "      <script>\n",
              "        const buttonEl =\n",
              "          document.querySelector('#df-1761a16b-7a35-4c2a-9b85-e94ba4dc84f3 button.colab-df-convert');\n",
              "        buttonEl.style.display =\n",
              "          google.colab.kernel.accessAllowed ? 'block' : 'none';\n",
              "\n",
              "        async function convertToInteractive(key) {\n",
              "          const element = document.querySelector('#df-1761a16b-7a35-4c2a-9b85-e94ba4dc84f3');\n",
              "          const dataTable =\n",
              "            await google.colab.kernel.invokeFunction('convertToInteractive',\n",
              "                                                     [key], {});\n",
              "          if (!dataTable) return;\n",
              "\n",
              "          const docLinkHtml = 'Like what you see? Visit the ' +\n",
              "            '<a target=\"_blank\" href=https://colab.research.google.com/notebooks/data_table.ipynb>data table notebook</a>'\n",
              "            + ' to learn more about interactive tables.';\n",
              "          element.innerHTML = '';\n",
              "          dataTable['output_type'] = 'display_data';\n",
              "          await google.colab.output.renderOutput(dataTable, element);\n",
              "          const docLink = document.createElement('div');\n",
              "          docLink.innerHTML = docLinkHtml;\n",
              "          element.appendChild(docLink);\n",
              "        }\n",
              "      </script>\n",
              "    </div>\n",
              "  </div>\n",
              "  "
            ]
          },
          "metadata": {},
          "execution_count": 9
        }
      ]
    },
    {
      "cell_type": "markdown",
      "source": [
        "# Question 2"
      ],
      "metadata": {
        "id": "EjcGhI-Q1EdA"
      }
    },
    {
      "cell_type": "markdown",
      "source": [
        "## Standard Train/Test Split"
      ],
      "metadata": {
        "id": "ZpAPevW8yV48"
      }
    },
    {
      "cell_type": "code",
      "source": [
        "#make train/test split\n",
        "X_train, x_test, Y_train, y_test = train_test_split(x, y_encoded, test_size = 0.33, random_state = 2)"
      ],
      "metadata": {
        "id": "D8NJy4hyx3rG"
      },
      "execution_count": 11,
      "outputs": []
    },
    {
      "cell_type": "markdown",
      "source": [
        "### Random Forest"
      ],
      "metadata": {
        "id": "skRE0Yowyr85"
      }
    },
    {
      "cell_type": "code",
      "source": [
        "model = RandomForestClassifier()\n",
        "\n",
        "#train the Random Forest Model using the data (training data)\n",
        "model.fit(X_train,Y_train)\n",
        "\n",
        "#make prediction using the trained model\n",
        "prediction = model.predict(x_test)\n",
        "\n",
        "#calcualte and print accuracy\n",
        "model_acc = accuracy_score(y_test, prediction)*100\n",
        "print(model_acc)\n",
        "\n",
        "model_cl_rep = metrics.classification_report(y_test, prediction)\n",
        "print(model_cl_rep)"
      ],
      "metadata": {
        "colab": {
          "base_uri": "https://localhost:8080/"
        },
        "id": "jC7yohnRykj0",
        "outputId": "1e2a9ff0-9b5d-4e28-e897-c34e6e2b711d"
      },
      "execution_count": 16,
      "outputs": [
        {
          "output_type": "stream",
          "name": "stdout",
          "text": [
            "100.0\n",
            "              precision    recall  f1-score   support\n",
            "\n",
            "           0       1.00      1.00      1.00        10\n",
            "           1       1.00      1.00      1.00        17\n",
            "\n",
            "    accuracy                           1.00        27\n",
            "   macro avg       1.00      1.00      1.00        27\n",
            "weighted avg       1.00      1.00      1.00        27\n",
            "\n"
          ]
        }
      ]
    },
    {
      "cell_type": "markdown",
      "source": [
        "### SVC"
      ],
      "metadata": {
        "id": "btcMByvGz2Fj"
      }
    },
    {
      "cell_type": "code",
      "source": [
        "model = SVC()\n",
        "\n",
        "#train the SVC Model using the data (training data)\n",
        "model.fit(X_train,Y_train)\n",
        "\n",
        "#make prediction using the trained model\n",
        "prediction = model.predict(x_test)\n",
        "\n",
        "#calcualte and print accuracy\n",
        "model_acc = accuracy_score(y_test, prediction)*100\n",
        "print(model_acc)\n",
        "\n",
        "#generate classification report\n",
        "model_cl_rep = metrics.classification_report(y_test, prediction)\n",
        "print(model_cl_rep)"
      ],
      "metadata": {
        "colab": {
          "base_uri": "https://localhost:8080/"
        },
        "id": "H9kGW9cvyt6X",
        "outputId": "54a9827c-be73-4995-b7f3-32e17b9a6c54"
      },
      "execution_count": 17,
      "outputs": [
        {
          "output_type": "stream",
          "name": "stdout",
          "text": [
            "77.77777777777779\n",
            "              precision    recall  f1-score   support\n",
            "\n",
            "           0       0.70      0.70      0.70        10\n",
            "           1       0.82      0.82      0.82        17\n",
            "\n",
            "    accuracy                           0.78        27\n",
            "   macro avg       0.76      0.76      0.76        27\n",
            "weighted avg       0.78      0.78      0.78        27\n",
            "\n"
          ]
        }
      ]
    },
    {
      "cell_type": "markdown",
      "source": [
        "### MLPC Model"
      ],
      "metadata": {
        "id": "A-5YIkzo0FZ1"
      }
    },
    {
      "cell_type": "code",
      "source": [
        "model = MLPClassifier()\n",
        "\n",
        "#train the MLPC Model using the data (training data)\n",
        "model.fit(X_train,Y_train)\n",
        "\n",
        "#make prediction using the trained model\n",
        "prediction = model.predict(x_test)\n",
        "\n",
        "#calcualte and print accuracy\n",
        "model_acc = accuracy_score(y_test, prediction)*100\n",
        "print(model_acc)\n",
        "\n",
        "#generate classification report\n",
        "model_cl_rep = metrics.classification_report(y_test, prediction)\n",
        "print(model_cl_rep)"
      ],
      "metadata": {
        "colab": {
          "base_uri": "https://localhost:8080/"
        },
        "id": "-KH6a8AX0MfX",
        "outputId": "b5342aa1-9df0-44df-d3d1-e6e41d6c137e"
      },
      "execution_count": 18,
      "outputs": [
        {
          "output_type": "stream",
          "name": "stdout",
          "text": [
            "92.5925925925926\n",
            "              precision    recall  f1-score   support\n",
            "\n",
            "           0       0.90      0.90      0.90        10\n",
            "           1       0.94      0.94      0.94        17\n",
            "\n",
            "    accuracy                           0.93        27\n",
            "   macro avg       0.92      0.92      0.92        27\n",
            "weighted avg       0.93      0.93      0.93        27\n",
            "\n"
          ]
        },
        {
          "output_type": "stream",
          "name": "stderr",
          "text": [
            "/usr/local/lib/python3.8/dist-packages/sklearn/neural_network/_multilayer_perceptron.py:692: ConvergenceWarning: Stochastic Optimizer: Maximum iterations (200) reached and the optimization hasn't converged yet.\n",
            "  warnings.warn(\n"
          ]
        }
      ]
    },
    {
      "cell_type": "markdown",
      "source": [
        "## 80/20 Split"
      ],
      "metadata": {
        "id": "25OqJeqN0bsq"
      }
    },
    {
      "cell_type": "code",
      "source": [
        "#make train/test split\n",
        "X_train, x_test, Y_train, y_test = train_test_split(x, y_encoded, test_size = 0.2, random_state = 2)"
      ],
      "metadata": {
        "id": "ratmxAZQ0fZP"
      },
      "execution_count": 19,
      "outputs": []
    },
    {
      "cell_type": "markdown",
      "source": [
        "### Random Forest"
      ],
      "metadata": {
        "id": "nSJyzXQ70q5P"
      }
    },
    {
      "cell_type": "code",
      "source": [
        "model = RandomForestClassifier()\n",
        "\n",
        "#train the Random Forest Model using the data (training data)\n",
        "model.fit(X_train,Y_train)\n",
        "\n",
        "#make prediction using the trained model\n",
        "prediction = model.predict(x_test)\n",
        "\n",
        "#calcualte and print accuracy\n",
        "model_acc = accuracy_score(y_test, prediction)*100\n",
        "print(model_acc)\n",
        "\n",
        "model_cl_rep = metrics.classification_report(y_test, prediction)\n",
        "print(model_cl_rep)"
      ],
      "metadata": {
        "colab": {
          "base_uri": "https://localhost:8080/"
        },
        "outputId": "1bf48130-1763-4c57-e969-3ff06c5e4021",
        "id": "nyXx-87t0q5P"
      },
      "execution_count": 20,
      "outputs": [
        {
          "output_type": "stream",
          "name": "stdout",
          "text": [
            "100.0\n",
            "              precision    recall  f1-score   support\n",
            "\n",
            "           0       1.00      1.00      1.00         6\n",
            "           1       1.00      1.00      1.00        10\n",
            "\n",
            "    accuracy                           1.00        16\n",
            "   macro avg       1.00      1.00      1.00        16\n",
            "weighted avg       1.00      1.00      1.00        16\n",
            "\n"
          ]
        }
      ]
    },
    {
      "cell_type": "markdown",
      "source": [
        "### SVC"
      ],
      "metadata": {
        "id": "ZxinFVac0q5Q"
      }
    },
    {
      "cell_type": "code",
      "source": [
        "model = SVC()\n",
        "\n",
        "#train the SVC Model using the data (training data)\n",
        "model.fit(X_train,Y_train)\n",
        "\n",
        "#make prediction using the trained model\n",
        "prediction = model.predict(x_test)\n",
        "\n",
        "#calcualte and print accuracy\n",
        "model_acc = accuracy_score(y_test, prediction)*100\n",
        "print(model_acc)\n",
        "\n",
        "#generate classification report\n",
        "model_cl_rep = metrics.classification_report(y_test, prediction)\n",
        "print(model_cl_rep)"
      ],
      "metadata": {
        "colab": {
          "base_uri": "https://localhost:8080/"
        },
        "outputId": "5f8f582a-3c82-4d2b-adb7-2f97ec6807cc",
        "id": "DpKSTZMZ0q5R"
      },
      "execution_count": 21,
      "outputs": [
        {
          "output_type": "stream",
          "name": "stdout",
          "text": [
            "81.25\n",
            "              precision    recall  f1-score   support\n",
            "\n",
            "           0       0.80      0.67      0.73         6\n",
            "           1       0.82      0.90      0.86        10\n",
            "\n",
            "    accuracy                           0.81        16\n",
            "   macro avg       0.81      0.78      0.79        16\n",
            "weighted avg       0.81      0.81      0.81        16\n",
            "\n"
          ]
        }
      ]
    },
    {
      "cell_type": "markdown",
      "source": [
        "### MLPC Model"
      ],
      "metadata": {
        "id": "0hHF_o6a0q5R"
      }
    },
    {
      "cell_type": "code",
      "source": [
        "model = MLPClassifier()\n",
        "\n",
        "#train the MLPC Model using the data (training data)\n",
        "model.fit(X_train,Y_train)\n",
        "\n",
        "#make prediction using the trained model\n",
        "prediction = model.predict(x_test)\n",
        "\n",
        "#calcualte and print accuracy\n",
        "model_acc = accuracy_score(y_test, prediction)*100\n",
        "print(model_acc)\n",
        "\n",
        "#generate classification report\n",
        "model_cl_rep = metrics.classification_report(y_test, prediction)\n",
        "print(model_cl_rep)"
      ],
      "metadata": {
        "colab": {
          "base_uri": "https://localhost:8080/"
        },
        "outputId": "49ce238c-3c68-483a-86b6-4cba8fe68e14",
        "id": "JYLDkVxB0q5S"
      },
      "execution_count": 22,
      "outputs": [
        {
          "output_type": "stream",
          "name": "stdout",
          "text": [
            "62.5\n",
            "              precision    recall  f1-score   support\n",
            "\n",
            "           0       0.00      0.00      0.00         6\n",
            "           1       0.62      1.00      0.77        10\n",
            "\n",
            "    accuracy                           0.62        16\n",
            "   macro avg       0.31      0.50      0.38        16\n",
            "weighted avg       0.39      0.62      0.48        16\n",
            "\n"
          ]
        },
        {
          "output_type": "stream",
          "name": "stderr",
          "text": [
            "/usr/local/lib/python3.8/dist-packages/sklearn/metrics/_classification.py:1318: UndefinedMetricWarning: Precision and F-score are ill-defined and being set to 0.0 in labels with no predicted samples. Use `zero_division` parameter to control this behavior.\n",
            "  _warn_prf(average, modifier, msg_start, len(result))\n",
            "/usr/local/lib/python3.8/dist-packages/sklearn/metrics/_classification.py:1318: UndefinedMetricWarning: Precision and F-score are ill-defined and being set to 0.0 in labels with no predicted samples. Use `zero_division` parameter to control this behavior.\n",
            "  _warn_prf(average, modifier, msg_start, len(result))\n",
            "/usr/local/lib/python3.8/dist-packages/sklearn/metrics/_classification.py:1318: UndefinedMetricWarning: Precision and F-score are ill-defined and being set to 0.0 in labels with no predicted samples. Use `zero_division` parameter to control this behavior.\n",
            "  _warn_prf(average, modifier, msg_start, len(result))\n"
          ]
        }
      ]
    },
    {
      "cell_type": "markdown",
      "source": [
        "## Excluding 2 columns, 80/20 Split"
      ],
      "metadata": {
        "id": "hBsKPoDy1Vvx"
      }
    },
    {
      "cell_type": "code",
      "source": [
        "x_small = x.drop(['beard', 'scarf'], axis=1)\n",
        "x_small"
      ],
      "metadata": {
        "colab": {
          "base_uri": "https://localhost:8080/",
          "height": 424
        },
        "id": "joqOAAfD1n4j",
        "outputId": "5f7c5861-6388-4ebb-f689-4a6e662fdbe8"
      },
      "execution_count": 45,
      "outputs": [
        {
          "output_type": "execute_result",
          "data": {
            "text/plain": [
              "    height  weight  hair_length  shoe_size  eye_color\n",
              "0       71     176            3         44          0\n",
              "1       68     165            0         41          0\n",
              "2       62     132            2         37          1\n",
              "3       65     138            1         38          3\n",
              "4       70     197            2         43          3\n",
              "..     ...     ...          ...        ...        ...\n",
              "80      62     101            1         38          0\n",
              "81      64     103            2         40          2\n",
              "82      69     173            3         42          0\n",
              "83      72     185            3         43          2\n",
              "84      65     120            1         37          1\n",
              "\n",
              "[85 rows x 5 columns]"
            ],
            "text/html": [
              "\n",
              "  <div id=\"df-089c2a9b-8dee-4106-ba25-b86c4f98bf9b\">\n",
              "    <div class=\"colab-df-container\">\n",
              "      <div>\n",
              "<style scoped>\n",
              "    .dataframe tbody tr th:only-of-type {\n",
              "        vertical-align: middle;\n",
              "    }\n",
              "\n",
              "    .dataframe tbody tr th {\n",
              "        vertical-align: top;\n",
              "    }\n",
              "\n",
              "    .dataframe thead th {\n",
              "        text-align: right;\n",
              "    }\n",
              "</style>\n",
              "<table border=\"1\" class=\"dataframe\">\n",
              "  <thead>\n",
              "    <tr style=\"text-align: right;\">\n",
              "      <th></th>\n",
              "      <th>height</th>\n",
              "      <th>weight</th>\n",
              "      <th>hair_length</th>\n",
              "      <th>shoe_size</th>\n",
              "      <th>eye_color</th>\n",
              "    </tr>\n",
              "  </thead>\n",
              "  <tbody>\n",
              "    <tr>\n",
              "      <th>0</th>\n",
              "      <td>71</td>\n",
              "      <td>176</td>\n",
              "      <td>3</td>\n",
              "      <td>44</td>\n",
              "      <td>0</td>\n",
              "    </tr>\n",
              "    <tr>\n",
              "      <th>1</th>\n",
              "      <td>68</td>\n",
              "      <td>165</td>\n",
              "      <td>0</td>\n",
              "      <td>41</td>\n",
              "      <td>0</td>\n",
              "    </tr>\n",
              "    <tr>\n",
              "      <th>2</th>\n",
              "      <td>62</td>\n",
              "      <td>132</td>\n",
              "      <td>2</td>\n",
              "      <td>37</td>\n",
              "      <td>1</td>\n",
              "    </tr>\n",
              "    <tr>\n",
              "      <th>3</th>\n",
              "      <td>65</td>\n",
              "      <td>138</td>\n",
              "      <td>1</td>\n",
              "      <td>38</td>\n",
              "      <td>3</td>\n",
              "    </tr>\n",
              "    <tr>\n",
              "      <th>4</th>\n",
              "      <td>70</td>\n",
              "      <td>197</td>\n",
              "      <td>2</td>\n",
              "      <td>43</td>\n",
              "      <td>3</td>\n",
              "    </tr>\n",
              "    <tr>\n",
              "      <th>...</th>\n",
              "      <td>...</td>\n",
              "      <td>...</td>\n",
              "      <td>...</td>\n",
              "      <td>...</td>\n",
              "      <td>...</td>\n",
              "    </tr>\n",
              "    <tr>\n",
              "      <th>80</th>\n",
              "      <td>62</td>\n",
              "      <td>101</td>\n",
              "      <td>1</td>\n",
              "      <td>38</td>\n",
              "      <td>0</td>\n",
              "    </tr>\n",
              "    <tr>\n",
              "      <th>81</th>\n",
              "      <td>64</td>\n",
              "      <td>103</td>\n",
              "      <td>2</td>\n",
              "      <td>40</td>\n",
              "      <td>2</td>\n",
              "    </tr>\n",
              "    <tr>\n",
              "      <th>82</th>\n",
              "      <td>69</td>\n",
              "      <td>173</td>\n",
              "      <td>3</td>\n",
              "      <td>42</td>\n",
              "      <td>0</td>\n",
              "    </tr>\n",
              "    <tr>\n",
              "      <th>83</th>\n",
              "      <td>72</td>\n",
              "      <td>185</td>\n",
              "      <td>3</td>\n",
              "      <td>43</td>\n",
              "      <td>2</td>\n",
              "    </tr>\n",
              "    <tr>\n",
              "      <th>84</th>\n",
              "      <td>65</td>\n",
              "      <td>120</td>\n",
              "      <td>1</td>\n",
              "      <td>37</td>\n",
              "      <td>1</td>\n",
              "    </tr>\n",
              "  </tbody>\n",
              "</table>\n",
              "<p>85 rows × 5 columns</p>\n",
              "</div>\n",
              "      <button class=\"colab-df-convert\" onclick=\"convertToInteractive('df-089c2a9b-8dee-4106-ba25-b86c4f98bf9b')\"\n",
              "              title=\"Convert this dataframe to an interactive table.\"\n",
              "              style=\"display:none;\">\n",
              "        \n",
              "  <svg xmlns=\"http://www.w3.org/2000/svg\" height=\"24px\"viewBox=\"0 0 24 24\"\n",
              "       width=\"24px\">\n",
              "    <path d=\"M0 0h24v24H0V0z\" fill=\"none\"/>\n",
              "    <path d=\"M18.56 5.44l.94 2.06.94-2.06 2.06-.94-2.06-.94-.94-2.06-.94 2.06-2.06.94zm-11 1L8.5 8.5l.94-2.06 2.06-.94-2.06-.94L8.5 2.5l-.94 2.06-2.06.94zm10 10l.94 2.06.94-2.06 2.06-.94-2.06-.94-.94-2.06-.94 2.06-2.06.94z\"/><path d=\"M17.41 7.96l-1.37-1.37c-.4-.4-.92-.59-1.43-.59-.52 0-1.04.2-1.43.59L10.3 9.45l-7.72 7.72c-.78.78-.78 2.05 0 2.83L4 21.41c.39.39.9.59 1.41.59.51 0 1.02-.2 1.41-.59l7.78-7.78 2.81-2.81c.8-.78.8-2.07 0-2.86zM5.41 20L4 18.59l7.72-7.72 1.47 1.35L5.41 20z\"/>\n",
              "  </svg>\n",
              "      </button>\n",
              "      \n",
              "  <style>\n",
              "    .colab-df-container {\n",
              "      display:flex;\n",
              "      flex-wrap:wrap;\n",
              "      gap: 12px;\n",
              "    }\n",
              "\n",
              "    .colab-df-convert {\n",
              "      background-color: #E8F0FE;\n",
              "      border: none;\n",
              "      border-radius: 50%;\n",
              "      cursor: pointer;\n",
              "      display: none;\n",
              "      fill: #1967D2;\n",
              "      height: 32px;\n",
              "      padding: 0 0 0 0;\n",
              "      width: 32px;\n",
              "    }\n",
              "\n",
              "    .colab-df-convert:hover {\n",
              "      background-color: #E2EBFA;\n",
              "      box-shadow: 0px 1px 2px rgba(60, 64, 67, 0.3), 0px 1px 3px 1px rgba(60, 64, 67, 0.15);\n",
              "      fill: #174EA6;\n",
              "    }\n",
              "\n",
              "    [theme=dark] .colab-df-convert {\n",
              "      background-color: #3B4455;\n",
              "      fill: #D2E3FC;\n",
              "    }\n",
              "\n",
              "    [theme=dark] .colab-df-convert:hover {\n",
              "      background-color: #434B5C;\n",
              "      box-shadow: 0px 1px 3px 1px rgba(0, 0, 0, 0.15);\n",
              "      filter: drop-shadow(0px 1px 2px rgba(0, 0, 0, 0.3));\n",
              "      fill: #FFFFFF;\n",
              "    }\n",
              "  </style>\n",
              "\n",
              "      <script>\n",
              "        const buttonEl =\n",
              "          document.querySelector('#df-089c2a9b-8dee-4106-ba25-b86c4f98bf9b button.colab-df-convert');\n",
              "        buttonEl.style.display =\n",
              "          google.colab.kernel.accessAllowed ? 'block' : 'none';\n",
              "\n",
              "        async function convertToInteractive(key) {\n",
              "          const element = document.querySelector('#df-089c2a9b-8dee-4106-ba25-b86c4f98bf9b');\n",
              "          const dataTable =\n",
              "            await google.colab.kernel.invokeFunction('convertToInteractive',\n",
              "                                                     [key], {});\n",
              "          if (!dataTable) return;\n",
              "\n",
              "          const docLinkHtml = 'Like what you see? Visit the ' +\n",
              "            '<a target=\"_blank\" href=https://colab.research.google.com/notebooks/data_table.ipynb>data table notebook</a>'\n",
              "            + ' to learn more about interactive tables.';\n",
              "          element.innerHTML = '';\n",
              "          dataTable['output_type'] = 'display_data';\n",
              "          await google.colab.output.renderOutput(dataTable, element);\n",
              "          const docLink = document.createElement('div');\n",
              "          docLink.innerHTML = docLinkHtml;\n",
              "          element.appendChild(docLink);\n",
              "        }\n",
              "      </script>\n",
              "    </div>\n",
              "  </div>\n",
              "  "
            ]
          },
          "metadata": {},
          "execution_count": 45
        }
      ]
    },
    {
      "cell_type": "code",
      "source": [
        "#make train/test split\n",
        "X_train, x_test, Y_train, y_test = train_test_split(x_small, y_encoded, test_size = 0.2, random_state = 2)"
      ],
      "metadata": {
        "id": "blTx6LlW1Vvy"
      },
      "execution_count": 46,
      "outputs": []
    },
    {
      "cell_type": "markdown",
      "source": [
        "### Random Forest"
      ],
      "metadata": {
        "id": "fYh3vK-o1Vvz"
      }
    },
    {
      "cell_type": "code",
      "source": [
        "model = RandomForestClassifier()\n",
        "\n",
        "#train the Random Forest Model using the data (training data)\n",
        "model.fit(X_train,Y_train)\n",
        "\n",
        "#make prediction using the trained model\n",
        "prediction = model.predict(x_test)\n",
        "\n",
        "#calcualte and print accuracy\n",
        "model_acc = accuracy_score(y_test, prediction)*100\n",
        "print(model_acc)\n",
        "\n",
        "model_cl_rep = metrics.classification_report(y_test, prediction)\n",
        "print(model_cl_rep)"
      ],
      "metadata": {
        "colab": {
          "base_uri": "https://localhost:8080/"
        },
        "outputId": "4ac8bad3-9d1d-454f-9372-07946af80331",
        "id": "A6sHVnhg1Vvz"
      },
      "execution_count": 47,
      "outputs": [
        {
          "output_type": "stream",
          "name": "stdout",
          "text": [
            "94.11764705882352\n",
            "              precision    recall  f1-score   support\n",
            "\n",
            "           0       0.86      1.00      0.92         6\n",
            "           1       1.00      0.91      0.95        11\n",
            "\n",
            "    accuracy                           0.94        17\n",
            "   macro avg       0.93      0.95      0.94        17\n",
            "weighted avg       0.95      0.94      0.94        17\n",
            "\n"
          ]
        }
      ]
    },
    {
      "cell_type": "markdown",
      "source": [
        "### SVC"
      ],
      "metadata": {
        "id": "ffsbT3cY1Vv0"
      }
    },
    {
      "cell_type": "code",
      "source": [
        "model = SVC()\n",
        "\n",
        "#train the SVC Model using the data (training data)\n",
        "model.fit(X_train,Y_train)\n",
        "\n",
        "#make prediction using the trained model\n",
        "prediction = model.predict(x_test)\n",
        "\n",
        "#calcualte and print accuracy\n",
        "model_acc = accuracy_score(y_test, prediction)*100\n",
        "print(model_acc)\n",
        "\n",
        "#generate classification report\n",
        "model_cl_rep = metrics.classification_report(y_test, prediction)\n",
        "print(model_cl_rep)"
      ],
      "metadata": {
        "colab": {
          "base_uri": "https://localhost:8080/"
        },
        "outputId": "e21534e9-dfcf-441d-bdb1-7e59b764b384",
        "id": "l_bhS7311Vv1"
      },
      "execution_count": 48,
      "outputs": [
        {
          "output_type": "stream",
          "name": "stdout",
          "text": [
            "88.23529411764706\n",
            "              precision    recall  f1-score   support\n",
            "\n",
            "           0       1.00      0.67      0.80         6\n",
            "           1       0.85      1.00      0.92        11\n",
            "\n",
            "    accuracy                           0.88        17\n",
            "   macro avg       0.92      0.83      0.86        17\n",
            "weighted avg       0.90      0.88      0.88        17\n",
            "\n"
          ]
        }
      ]
    },
    {
      "cell_type": "markdown",
      "source": [
        "### MLPC Model"
      ],
      "metadata": {
        "id": "c0RRPP5F1Vv2"
      }
    },
    {
      "cell_type": "code",
      "source": [
        "model = MLPClassifier()\n",
        "\n",
        "#train the MLPC Model using the data (training data)\n",
        "model.fit(X_train,Y_train)\n",
        "\n",
        "#make prediction using the trained model\n",
        "prediction = model.predict(x_test)\n",
        "\n",
        "#calcualte and print accuracy\n",
        "model_acc = accuracy_score(y_test, prediction)*100\n",
        "print(model_acc)\n",
        "\n",
        "#generate classification report\n",
        "model_cl_rep = metrics.classification_report(y_test, prediction)\n",
        "print(model_cl_rep)"
      ],
      "metadata": {
        "colab": {
          "base_uri": "https://localhost:8080/"
        },
        "outputId": "b1ab4ff2-3857-4fa8-a530-ab2eec280b97",
        "id": "AmEnTe6S1Vv2"
      },
      "execution_count": 49,
      "outputs": [
        {
          "output_type": "stream",
          "name": "stdout",
          "text": [
            "94.11764705882352\n",
            "              precision    recall  f1-score   support\n",
            "\n",
            "           0       1.00      0.83      0.91         6\n",
            "           1       0.92      1.00      0.96        11\n",
            "\n",
            "    accuracy                           0.94        17\n",
            "   macro avg       0.96      0.92      0.93        17\n",
            "weighted avg       0.95      0.94      0.94        17\n",
            "\n"
          ]
        },
        {
          "output_type": "stream",
          "name": "stderr",
          "text": [
            "/usr/local/lib/python3.8/dist-packages/sklearn/neural_network/_multilayer_perceptron.py:692: ConvergenceWarning: Stochastic Optimizer: Maximum iterations (200) reached and the optimization hasn't converged yet.\n",
            "  warnings.warn(\n"
          ]
        }
      ]
    },
    {
      "cell_type": "markdown",
      "source": [
        "# Question 3"
      ],
      "metadata": {
        "id": "Yyfzjemp2Cmn"
      }
    },
    {
      "cell_type": "markdown",
      "source": [
        "## Monte Carlo"
      ],
      "metadata": {
        "id": "6bASEeKd2iLR"
      }
    },
    {
      "cell_type": "code",
      "source": [
        "from sklearn.model_selection import cross_val_score\n",
        "from  sklearn.model_selection import ShuffleSplit\n",
        "from sklearn.tree import DecisionTreeClassifier"
      ],
      "metadata": {
        "id": "AL90VmPS2Gg7"
      },
      "execution_count": 29,
      "outputs": []
    },
    {
      "cell_type": "code",
      "source": [
        "mc = ShuffleSplit(n_splits=5,test_size=0.33,random_state=2)\n",
        "model = DecisionTreeClassifier()"
      ],
      "metadata": {
        "id": "LL-mWtws2NMR"
      },
      "execution_count": 30,
      "outputs": []
    },
    {
      "cell_type": "code",
      "source": [
        "#train the Decision Tree Model using the data (training data)\n",
        "dec_tree = DecisionTreeClassifier()\n",
        "mean_score = cross_val_score(dec_tree, x, y_encoded, scoring=\"f1\", cv = mc).mean()\n",
        "mean_score"
      ],
      "metadata": {
        "colab": {
          "base_uri": "https://localhost:8080/"
        },
        "id": "fbb-d_rH2Uv4",
        "outputId": "ba476846-da2f-485a-b507-6d9ea3870937"
      },
      "execution_count": 32,
      "outputs": [
        {
          "output_type": "execute_result",
          "data": {
            "text/plain": [
              "0.9548182283666156"
            ]
          },
          "metadata": {},
          "execution_count": 32
        }
      ]
    },
    {
      "cell_type": "markdown",
      "source": [
        "## Leave p out"
      ],
      "metadata": {
        "id": "Z8DzPhs52lxG"
      }
    },
    {
      "cell_type": "code",
      "source": [
        "from sklearn.model_selection import LeavePOut"
      ],
      "metadata": {
        "id": "kXRjdFMt2pFA"
      },
      "execution_count": 33,
      "outputs": []
    },
    {
      "cell_type": "code",
      "source": [
        "dec_tree = DecisionTreeClassifier()\n",
        "lpo=LeavePOut(p=2)\n",
        "lpo.get_n_splits(x)\n",
        "score=cross_val_score(dec_tree, x, y_encoded, cv=lpo).mean()\n",
        "score"
      ],
      "metadata": {
        "colab": {
          "base_uri": "https://localhost:8080/"
        },
        "id": "tZEeZw9w2t-F",
        "outputId": "d1310017-99cc-4423-a532-b9d1dcfeb8a4"
      },
      "execution_count": 34,
      "outputs": [
        {
          "output_type": "execute_result",
          "data": {
            "text/plain": [
              "0.9414556962025317"
            ]
          },
          "metadata": {},
          "execution_count": 34
        }
      ]
    },
    {
      "cell_type": "markdown",
      "source": [
        "# Question 4"
      ],
      "metadata": {
        "id": "B4EAmgCL22kg"
      }
    },
    {
      "cell_type": "code",
      "source": [
        "df = pd.read_csv('/content/drive/MyDrive/datasets/gender-prediction - 5 exmp added.csv')\n",
        "df"
      ],
      "metadata": {
        "colab": {
          "base_uri": "https://localhost:8080/",
          "height": 424
        },
        "id": "geCiskmD3Aro",
        "outputId": "75ea0951-c800-4773-962a-2753d77f08b6"
      },
      "execution_count": 35,
      "outputs": [
        {
          "output_type": "execute_result",
          "data": {
            "text/plain": [
              "    height  weight beard hair_length  shoe_size scarf eye_color  gender\n",
              "0       71     176   yes       short         44    no     black    male\n",
              "1       68     165    no        bald         41    no     black    male\n",
              "2       62     132    no      medium         37   yes      blue  female\n",
              "3       65     138    no        long         38    no      gray  female\n",
              "4       70     197   yes      medium         43    no      gray    male\n",
              "..     ...     ...   ...         ...        ...   ...       ...     ...\n",
              "80      62     101    no        long         38   yes     black  female\n",
              "81      64     103    no      medium         40    no     brown  female\n",
              "82      69     173   yes       short         42    no     black    male\n",
              "83      72     185   yes       short         43    no     brown    male\n",
              "84      65     120    no        long         37   yes      blue  female\n",
              "\n",
              "[85 rows x 8 columns]"
            ],
            "text/html": [
              "\n",
              "  <div id=\"df-d1555e7c-493b-40be-ad33-7f12baad2324\">\n",
              "    <div class=\"colab-df-container\">\n",
              "      <div>\n",
              "<style scoped>\n",
              "    .dataframe tbody tr th:only-of-type {\n",
              "        vertical-align: middle;\n",
              "    }\n",
              "\n",
              "    .dataframe tbody tr th {\n",
              "        vertical-align: top;\n",
              "    }\n",
              "\n",
              "    .dataframe thead th {\n",
              "        text-align: right;\n",
              "    }\n",
              "</style>\n",
              "<table border=\"1\" class=\"dataframe\">\n",
              "  <thead>\n",
              "    <tr style=\"text-align: right;\">\n",
              "      <th></th>\n",
              "      <th>height</th>\n",
              "      <th>weight</th>\n",
              "      <th>beard</th>\n",
              "      <th>hair_length</th>\n",
              "      <th>shoe_size</th>\n",
              "      <th>scarf</th>\n",
              "      <th>eye_color</th>\n",
              "      <th>gender</th>\n",
              "    </tr>\n",
              "  </thead>\n",
              "  <tbody>\n",
              "    <tr>\n",
              "      <th>0</th>\n",
              "      <td>71</td>\n",
              "      <td>176</td>\n",
              "      <td>yes</td>\n",
              "      <td>short</td>\n",
              "      <td>44</td>\n",
              "      <td>no</td>\n",
              "      <td>black</td>\n",
              "      <td>male</td>\n",
              "    </tr>\n",
              "    <tr>\n",
              "      <th>1</th>\n",
              "      <td>68</td>\n",
              "      <td>165</td>\n",
              "      <td>no</td>\n",
              "      <td>bald</td>\n",
              "      <td>41</td>\n",
              "      <td>no</td>\n",
              "      <td>black</td>\n",
              "      <td>male</td>\n",
              "    </tr>\n",
              "    <tr>\n",
              "      <th>2</th>\n",
              "      <td>62</td>\n",
              "      <td>132</td>\n",
              "      <td>no</td>\n",
              "      <td>medium</td>\n",
              "      <td>37</td>\n",
              "      <td>yes</td>\n",
              "      <td>blue</td>\n",
              "      <td>female</td>\n",
              "    </tr>\n",
              "    <tr>\n",
              "      <th>3</th>\n",
              "      <td>65</td>\n",
              "      <td>138</td>\n",
              "      <td>no</td>\n",
              "      <td>long</td>\n",
              "      <td>38</td>\n",
              "      <td>no</td>\n",
              "      <td>gray</td>\n",
              "      <td>female</td>\n",
              "    </tr>\n",
              "    <tr>\n",
              "      <th>4</th>\n",
              "      <td>70</td>\n",
              "      <td>197</td>\n",
              "      <td>yes</td>\n",
              "      <td>medium</td>\n",
              "      <td>43</td>\n",
              "      <td>no</td>\n",
              "      <td>gray</td>\n",
              "      <td>male</td>\n",
              "    </tr>\n",
              "    <tr>\n",
              "      <th>...</th>\n",
              "      <td>...</td>\n",
              "      <td>...</td>\n",
              "      <td>...</td>\n",
              "      <td>...</td>\n",
              "      <td>...</td>\n",
              "      <td>...</td>\n",
              "      <td>...</td>\n",
              "      <td>...</td>\n",
              "    </tr>\n",
              "    <tr>\n",
              "      <th>80</th>\n",
              "      <td>62</td>\n",
              "      <td>101</td>\n",
              "      <td>no</td>\n",
              "      <td>long</td>\n",
              "      <td>38</td>\n",
              "      <td>yes</td>\n",
              "      <td>black</td>\n",
              "      <td>female</td>\n",
              "    </tr>\n",
              "    <tr>\n",
              "      <th>81</th>\n",
              "      <td>64</td>\n",
              "      <td>103</td>\n",
              "      <td>no</td>\n",
              "      <td>medium</td>\n",
              "      <td>40</td>\n",
              "      <td>no</td>\n",
              "      <td>brown</td>\n",
              "      <td>female</td>\n",
              "    </tr>\n",
              "    <tr>\n",
              "      <th>82</th>\n",
              "      <td>69</td>\n",
              "      <td>173</td>\n",
              "      <td>yes</td>\n",
              "      <td>short</td>\n",
              "      <td>42</td>\n",
              "      <td>no</td>\n",
              "      <td>black</td>\n",
              "      <td>male</td>\n",
              "    </tr>\n",
              "    <tr>\n",
              "      <th>83</th>\n",
              "      <td>72</td>\n",
              "      <td>185</td>\n",
              "      <td>yes</td>\n",
              "      <td>short</td>\n",
              "      <td>43</td>\n",
              "      <td>no</td>\n",
              "      <td>brown</td>\n",
              "      <td>male</td>\n",
              "    </tr>\n",
              "    <tr>\n",
              "      <th>84</th>\n",
              "      <td>65</td>\n",
              "      <td>120</td>\n",
              "      <td>no</td>\n",
              "      <td>long</td>\n",
              "      <td>37</td>\n",
              "      <td>yes</td>\n",
              "      <td>blue</td>\n",
              "      <td>female</td>\n",
              "    </tr>\n",
              "  </tbody>\n",
              "</table>\n",
              "<p>85 rows × 8 columns</p>\n",
              "</div>\n",
              "      <button class=\"colab-df-convert\" onclick=\"convertToInteractive('df-d1555e7c-493b-40be-ad33-7f12baad2324')\"\n",
              "              title=\"Convert this dataframe to an interactive table.\"\n",
              "              style=\"display:none;\">\n",
              "        \n",
              "  <svg xmlns=\"http://www.w3.org/2000/svg\" height=\"24px\"viewBox=\"0 0 24 24\"\n",
              "       width=\"24px\">\n",
              "    <path d=\"M0 0h24v24H0V0z\" fill=\"none\"/>\n",
              "    <path d=\"M18.56 5.44l.94 2.06.94-2.06 2.06-.94-2.06-.94-.94-2.06-.94 2.06-2.06.94zm-11 1L8.5 8.5l.94-2.06 2.06-.94-2.06-.94L8.5 2.5l-.94 2.06-2.06.94zm10 10l.94 2.06.94-2.06 2.06-.94-2.06-.94-.94-2.06-.94 2.06-2.06.94z\"/><path d=\"M17.41 7.96l-1.37-1.37c-.4-.4-.92-.59-1.43-.59-.52 0-1.04.2-1.43.59L10.3 9.45l-7.72 7.72c-.78.78-.78 2.05 0 2.83L4 21.41c.39.39.9.59 1.41.59.51 0 1.02-.2 1.41-.59l7.78-7.78 2.81-2.81c.8-.78.8-2.07 0-2.86zM5.41 20L4 18.59l7.72-7.72 1.47 1.35L5.41 20z\"/>\n",
              "  </svg>\n",
              "      </button>\n",
              "      \n",
              "  <style>\n",
              "    .colab-df-container {\n",
              "      display:flex;\n",
              "      flex-wrap:wrap;\n",
              "      gap: 12px;\n",
              "    }\n",
              "\n",
              "    .colab-df-convert {\n",
              "      background-color: #E8F0FE;\n",
              "      border: none;\n",
              "      border-radius: 50%;\n",
              "      cursor: pointer;\n",
              "      display: none;\n",
              "      fill: #1967D2;\n",
              "      height: 32px;\n",
              "      padding: 0 0 0 0;\n",
              "      width: 32px;\n",
              "    }\n",
              "\n",
              "    .colab-df-convert:hover {\n",
              "      background-color: #E2EBFA;\n",
              "      box-shadow: 0px 1px 2px rgba(60, 64, 67, 0.3), 0px 1px 3px 1px rgba(60, 64, 67, 0.15);\n",
              "      fill: #174EA6;\n",
              "    }\n",
              "\n",
              "    [theme=dark] .colab-df-convert {\n",
              "      background-color: #3B4455;\n",
              "      fill: #D2E3FC;\n",
              "    }\n",
              "\n",
              "    [theme=dark] .colab-df-convert:hover {\n",
              "      background-color: #434B5C;\n",
              "      box-shadow: 0px 1px 3px 1px rgba(0, 0, 0, 0.15);\n",
              "      filter: drop-shadow(0px 1px 2px rgba(0, 0, 0, 0.3));\n",
              "      fill: #FFFFFF;\n",
              "    }\n",
              "  </style>\n",
              "\n",
              "      <script>\n",
              "        const buttonEl =\n",
              "          document.querySelector('#df-d1555e7c-493b-40be-ad33-7f12baad2324 button.colab-df-convert');\n",
              "        buttonEl.style.display =\n",
              "          google.colab.kernel.accessAllowed ? 'block' : 'none';\n",
              "\n",
              "        async function convertToInteractive(key) {\n",
              "          const element = document.querySelector('#df-d1555e7c-493b-40be-ad33-7f12baad2324');\n",
              "          const dataTable =\n",
              "            await google.colab.kernel.invokeFunction('convertToInteractive',\n",
              "                                                     [key], {});\n",
              "          if (!dataTable) return;\n",
              "\n",
              "          const docLinkHtml = 'Like what you see? Visit the ' +\n",
              "            '<a target=\"_blank\" href=https://colab.research.google.com/notebooks/data_table.ipynb>data table notebook</a>'\n",
              "            + ' to learn more about interactive tables.';\n",
              "          element.innerHTML = '';\n",
              "          dataTable['output_type'] = 'display_data';\n",
              "          await google.colab.output.renderOutput(dataTable, element);\n",
              "          const docLink = document.createElement('div');\n",
              "          docLink.innerHTML = docLinkHtml;\n",
              "          element.appendChild(docLink);\n",
              "        }\n",
              "      </script>\n",
              "    </div>\n",
              "  </div>\n",
              "  "
            ]
          },
          "metadata": {},
          "execution_count": 35
        }
      ]
    },
    {
      "cell_type": "code",
      "source": [
        "#seperate dependent (output) and independent (input) variables\n",
        "x = df.drop(['gender'], axis=1)\n",
        "y = df['gender']"
      ],
      "metadata": {
        "id": "pCNIK2CD324Q"
      },
      "execution_count": 36,
      "outputs": []
    },
    {
      "cell_type": "code",
      "source": [
        "labels = preprocessing.LabelEncoder()\n",
        "y_encoded = labels.fit_transform(y)"
      ],
      "metadata": {
        "id": "JiXSY70j348b"
      },
      "execution_count": 37,
      "outputs": []
    },
    {
      "cell_type": "code",
      "source": [
        "x['beard'] = labels.fit_transform(x['beard'])\n",
        "x['hair_length'] = labels.fit_transform(x['hair_length'])\n",
        "x['scarf'] = labels.fit_transform(x['scarf'])\n",
        "x['eye_color'] = labels.fit_transform(x['eye_color'])\n",
        "x"
      ],
      "metadata": {
        "colab": {
          "base_uri": "https://localhost:8080/",
          "height": 424
        },
        "id": "HkXBg2IU37Fp",
        "outputId": "73686b69-861e-466c-bfda-06ee1ffc2edf"
      },
      "execution_count": 38,
      "outputs": [
        {
          "output_type": "execute_result",
          "data": {
            "text/plain": [
              "    height  weight  beard  hair_length  shoe_size  scarf  eye_color\n",
              "0       71     176      1            3         44      0          0\n",
              "1       68     165      0            0         41      0          0\n",
              "2       62     132      0            2         37      1          1\n",
              "3       65     138      0            1         38      0          3\n",
              "4       70     197      1            2         43      0          3\n",
              "..     ...     ...    ...          ...        ...    ...        ...\n",
              "80      62     101      0            1         38      1          0\n",
              "81      64     103      0            2         40      0          2\n",
              "82      69     173      1            3         42      0          0\n",
              "83      72     185      1            3         43      0          2\n",
              "84      65     120      0            1         37      1          1\n",
              "\n",
              "[85 rows x 7 columns]"
            ],
            "text/html": [
              "\n",
              "  <div id=\"df-4dacad22-656a-4d34-a16a-28f4528b46eb\">\n",
              "    <div class=\"colab-df-container\">\n",
              "      <div>\n",
              "<style scoped>\n",
              "    .dataframe tbody tr th:only-of-type {\n",
              "        vertical-align: middle;\n",
              "    }\n",
              "\n",
              "    .dataframe tbody tr th {\n",
              "        vertical-align: top;\n",
              "    }\n",
              "\n",
              "    .dataframe thead th {\n",
              "        text-align: right;\n",
              "    }\n",
              "</style>\n",
              "<table border=\"1\" class=\"dataframe\">\n",
              "  <thead>\n",
              "    <tr style=\"text-align: right;\">\n",
              "      <th></th>\n",
              "      <th>height</th>\n",
              "      <th>weight</th>\n",
              "      <th>beard</th>\n",
              "      <th>hair_length</th>\n",
              "      <th>shoe_size</th>\n",
              "      <th>scarf</th>\n",
              "      <th>eye_color</th>\n",
              "    </tr>\n",
              "  </thead>\n",
              "  <tbody>\n",
              "    <tr>\n",
              "      <th>0</th>\n",
              "      <td>71</td>\n",
              "      <td>176</td>\n",
              "      <td>1</td>\n",
              "      <td>3</td>\n",
              "      <td>44</td>\n",
              "      <td>0</td>\n",
              "      <td>0</td>\n",
              "    </tr>\n",
              "    <tr>\n",
              "      <th>1</th>\n",
              "      <td>68</td>\n",
              "      <td>165</td>\n",
              "      <td>0</td>\n",
              "      <td>0</td>\n",
              "      <td>41</td>\n",
              "      <td>0</td>\n",
              "      <td>0</td>\n",
              "    </tr>\n",
              "    <tr>\n",
              "      <th>2</th>\n",
              "      <td>62</td>\n",
              "      <td>132</td>\n",
              "      <td>0</td>\n",
              "      <td>2</td>\n",
              "      <td>37</td>\n",
              "      <td>1</td>\n",
              "      <td>1</td>\n",
              "    </tr>\n",
              "    <tr>\n",
              "      <th>3</th>\n",
              "      <td>65</td>\n",
              "      <td>138</td>\n",
              "      <td>0</td>\n",
              "      <td>1</td>\n",
              "      <td>38</td>\n",
              "      <td>0</td>\n",
              "      <td>3</td>\n",
              "    </tr>\n",
              "    <tr>\n",
              "      <th>4</th>\n",
              "      <td>70</td>\n",
              "      <td>197</td>\n",
              "      <td>1</td>\n",
              "      <td>2</td>\n",
              "      <td>43</td>\n",
              "      <td>0</td>\n",
              "      <td>3</td>\n",
              "    </tr>\n",
              "    <tr>\n",
              "      <th>...</th>\n",
              "      <td>...</td>\n",
              "      <td>...</td>\n",
              "      <td>...</td>\n",
              "      <td>...</td>\n",
              "      <td>...</td>\n",
              "      <td>...</td>\n",
              "      <td>...</td>\n",
              "    </tr>\n",
              "    <tr>\n",
              "      <th>80</th>\n",
              "      <td>62</td>\n",
              "      <td>101</td>\n",
              "      <td>0</td>\n",
              "      <td>1</td>\n",
              "      <td>38</td>\n",
              "      <td>1</td>\n",
              "      <td>0</td>\n",
              "    </tr>\n",
              "    <tr>\n",
              "      <th>81</th>\n",
              "      <td>64</td>\n",
              "      <td>103</td>\n",
              "      <td>0</td>\n",
              "      <td>2</td>\n",
              "      <td>40</td>\n",
              "      <td>0</td>\n",
              "      <td>2</td>\n",
              "    </tr>\n",
              "    <tr>\n",
              "      <th>82</th>\n",
              "      <td>69</td>\n",
              "      <td>173</td>\n",
              "      <td>1</td>\n",
              "      <td>3</td>\n",
              "      <td>42</td>\n",
              "      <td>0</td>\n",
              "      <td>0</td>\n",
              "    </tr>\n",
              "    <tr>\n",
              "      <th>83</th>\n",
              "      <td>72</td>\n",
              "      <td>185</td>\n",
              "      <td>1</td>\n",
              "      <td>3</td>\n",
              "      <td>43</td>\n",
              "      <td>0</td>\n",
              "      <td>2</td>\n",
              "    </tr>\n",
              "    <tr>\n",
              "      <th>84</th>\n",
              "      <td>65</td>\n",
              "      <td>120</td>\n",
              "      <td>0</td>\n",
              "      <td>1</td>\n",
              "      <td>37</td>\n",
              "      <td>1</td>\n",
              "      <td>1</td>\n",
              "    </tr>\n",
              "  </tbody>\n",
              "</table>\n",
              "<p>85 rows × 7 columns</p>\n",
              "</div>\n",
              "      <button class=\"colab-df-convert\" onclick=\"convertToInteractive('df-4dacad22-656a-4d34-a16a-28f4528b46eb')\"\n",
              "              title=\"Convert this dataframe to an interactive table.\"\n",
              "              style=\"display:none;\">\n",
              "        \n",
              "  <svg xmlns=\"http://www.w3.org/2000/svg\" height=\"24px\"viewBox=\"0 0 24 24\"\n",
              "       width=\"24px\">\n",
              "    <path d=\"M0 0h24v24H0V0z\" fill=\"none\"/>\n",
              "    <path d=\"M18.56 5.44l.94 2.06.94-2.06 2.06-.94-2.06-.94-.94-2.06-.94 2.06-2.06.94zm-11 1L8.5 8.5l.94-2.06 2.06-.94-2.06-.94L8.5 2.5l-.94 2.06-2.06.94zm10 10l.94 2.06.94-2.06 2.06-.94-2.06-.94-.94-2.06-.94 2.06-2.06.94z\"/><path d=\"M17.41 7.96l-1.37-1.37c-.4-.4-.92-.59-1.43-.59-.52 0-1.04.2-1.43.59L10.3 9.45l-7.72 7.72c-.78.78-.78 2.05 0 2.83L4 21.41c.39.39.9.59 1.41.59.51 0 1.02-.2 1.41-.59l7.78-7.78 2.81-2.81c.8-.78.8-2.07 0-2.86zM5.41 20L4 18.59l7.72-7.72 1.47 1.35L5.41 20z\"/>\n",
              "  </svg>\n",
              "      </button>\n",
              "      \n",
              "  <style>\n",
              "    .colab-df-container {\n",
              "      display:flex;\n",
              "      flex-wrap:wrap;\n",
              "      gap: 12px;\n",
              "    }\n",
              "\n",
              "    .colab-df-convert {\n",
              "      background-color: #E8F0FE;\n",
              "      border: none;\n",
              "      border-radius: 50%;\n",
              "      cursor: pointer;\n",
              "      display: none;\n",
              "      fill: #1967D2;\n",
              "      height: 32px;\n",
              "      padding: 0 0 0 0;\n",
              "      width: 32px;\n",
              "    }\n",
              "\n",
              "    .colab-df-convert:hover {\n",
              "      background-color: #E2EBFA;\n",
              "      box-shadow: 0px 1px 2px rgba(60, 64, 67, 0.3), 0px 1px 3px 1px rgba(60, 64, 67, 0.15);\n",
              "      fill: #174EA6;\n",
              "    }\n",
              "\n",
              "    [theme=dark] .colab-df-convert {\n",
              "      background-color: #3B4455;\n",
              "      fill: #D2E3FC;\n",
              "    }\n",
              "\n",
              "    [theme=dark] .colab-df-convert:hover {\n",
              "      background-color: #434B5C;\n",
              "      box-shadow: 0px 1px 3px 1px rgba(0, 0, 0, 0.15);\n",
              "      filter: drop-shadow(0px 1px 2px rgba(0, 0, 0, 0.3));\n",
              "      fill: #FFFFFF;\n",
              "    }\n",
              "  </style>\n",
              "\n",
              "      <script>\n",
              "        const buttonEl =\n",
              "          document.querySelector('#df-4dacad22-656a-4d34-a16a-28f4528b46eb button.colab-df-convert');\n",
              "        buttonEl.style.display =\n",
              "          google.colab.kernel.accessAllowed ? 'block' : 'none';\n",
              "\n",
              "        async function convertToInteractive(key) {\n",
              "          const element = document.querySelector('#df-4dacad22-656a-4d34-a16a-28f4528b46eb');\n",
              "          const dataTable =\n",
              "            await google.colab.kernel.invokeFunction('convertToInteractive',\n",
              "                                                     [key], {});\n",
              "          if (!dataTable) return;\n",
              "\n",
              "          const docLinkHtml = 'Like what you see? Visit the ' +\n",
              "            '<a target=\"_blank\" href=https://colab.research.google.com/notebooks/data_table.ipynb>data table notebook</a>'\n",
              "            + ' to learn more about interactive tables.';\n",
              "          element.innerHTML = '';\n",
              "          dataTable['output_type'] = 'display_data';\n",
              "          await google.colab.output.renderOutput(dataTable, element);\n",
              "          const docLink = document.createElement('div');\n",
              "          docLink.innerHTML = docLinkHtml;\n",
              "          element.appendChild(docLink);\n",
              "        }\n",
              "      </script>\n",
              "    </div>\n",
              "  </div>\n",
              "  "
            ]
          },
          "metadata": {},
          "execution_count": 38
        }
      ]
    },
    {
      "cell_type": "code",
      "source": [
        "#make train/test split\n",
        "X_train, x_test, Y_train, y_test = train_test_split(x, y_encoded, test_size = 0.05, random_state = 2)"
      ],
      "metadata": {
        "id": "RmlrqlLW3_W1"
      },
      "execution_count": 39,
      "outputs": []
    },
    {
      "cell_type": "code",
      "source": [
        "from sklearn.naive_bayes import GaussianNB\n",
        "model = GaussianNB()"
      ],
      "metadata": {
        "id": "HdQ91NIy4MtT"
      },
      "execution_count": 40,
      "outputs": []
    },
    {
      "cell_type": "code",
      "source": [
        "#train the Gaussian Naive Bays Model using the data (training data)\n",
        "model.fit(X_train,Y_train)"
      ],
      "metadata": {
        "colab": {
          "base_uri": "https://localhost:8080/"
        },
        "id": "w-Sv4nSp4OzT",
        "outputId": "3eb5d635-5fd1-4b53-fe37-b816b8fcf312"
      },
      "execution_count": 41,
      "outputs": [
        {
          "output_type": "execute_result",
          "data": {
            "text/plain": [
              "GaussianNB()"
            ]
          },
          "metadata": {},
          "execution_count": 41
        }
      ]
    },
    {
      "cell_type": "code",
      "source": [
        "#make prediction using the trained model\n",
        "prediction = model.predict(x_test)"
      ],
      "metadata": {
        "id": "4VYlP2Zw4RE8"
      },
      "execution_count": 42,
      "outputs": []
    },
    {
      "cell_type": "code",
      "source": [
        "#calcualte and print accuracy\n",
        "model_acc = accuracy_score(y_test, prediction)*100\n",
        "print(model_acc)"
      ],
      "metadata": {
        "colab": {
          "base_uri": "https://localhost:8080/"
        },
        "id": "WcRbEINm4T2v",
        "outputId": "b8e8a654-da9b-4c85-a3b9-d3639373f548"
      },
      "execution_count": 43,
      "outputs": [
        {
          "output_type": "stream",
          "name": "stdout",
          "text": [
            "80.0\n"
          ]
        }
      ]
    },
    {
      "cell_type": "code",
      "source": [
        "#generate classification report\n",
        "model_cl_rep = metrics.classification_report(y_test, prediction)\n",
        "print(model_cl_rep)"
      ],
      "metadata": {
        "colab": {
          "base_uri": "https://localhost:8080/"
        },
        "id": "c64YttAi4WVp",
        "outputId": "b1a5d41c-0058-4c36-fbff-51e2a4098ca6"
      },
      "execution_count": 44,
      "outputs": [
        {
          "output_type": "stream",
          "name": "stdout",
          "text": [
            "              precision    recall  f1-score   support\n",
            "\n",
            "           0       1.00      0.50      0.67         2\n",
            "           1       0.75      1.00      0.86         3\n",
            "\n",
            "    accuracy                           0.80         5\n",
            "   macro avg       0.88      0.75      0.76         5\n",
            "weighted avg       0.85      0.80      0.78         5\n",
            "\n"
          ]
        }
      ]
    }
  ]
}